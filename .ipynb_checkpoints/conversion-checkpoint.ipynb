{
 "cells": [
  {
   "cell_type": "markdown",
   "id": "6f401b1a",
   "metadata": {},
   "source": [
    "### Croston"
   ]
  },
  {
   "cell_type": "code",
   "execution_count": 3,
   "id": "a48234f1",
   "metadata": {},
   "outputs": [],
   "source": [
    "#!pip install sktime\n",
    "from sktime.forecasting.croston import Croston\n",
    "from sktime.datasets import load_PBS_dataset\n",
    "y = load_PBS_dataset()\n",
    "forecaster = Croston(smoothing=0.1)\n",
    "forecaster.fit(y)\n",
    "y_pred = forecaster.predict(fh=[1,2,3])"
   ]
  },
  {
   "cell_type": "code",
   "execution_count": 4,
   "id": "1cb0691c",
   "metadata": {},
   "outputs": [
    {
     "data": {
      "text/plain": [
       "2008-07    0.868892\n",
       "2008-08    0.868892\n",
       "2008-09    0.868892\n",
       "Freq: M, dtype: float64"
      ]
     },
     "execution_count": 4,
     "metadata": {},
     "output_type": "execute_result"
    }
   ],
   "source": [
    "y_pred"
   ]
  },
  {
   "cell_type": "markdown",
   "id": "8f6ccb8d",
   "metadata": {},
   "source": [
    "### SMA"
   ]
  },
  {
   "cell_type": "code",
   "execution_count": 5,
   "id": "6bd84642",
   "metadata": {},
   "outputs": [
    {
     "ename": "NameError",
     "evalue": "name 'df' is not defined",
     "output_type": "error",
     "traceback": [
      "\u001b[1;31m---------------------------------------------------------------------------\u001b[0m",
      "\u001b[1;31mNameError\u001b[0m                                 Traceback (most recent call last)",
      "Input \u001b[1;32mIn [5]\u001b[0m, in \u001b[0;36m<cell line: 3>\u001b[1;34m()\u001b[0m\n\u001b[0;32m      1\u001b[0m \u001b[38;5;66;03m#!pip install pandas_ta\u001b[39;00m\n\u001b[0;32m      2\u001b[0m \u001b[38;5;28;01mimport\u001b[39;00m \u001b[38;5;21;01mpandas_ta\u001b[39;00m \u001b[38;5;28;01mas\u001b[39;00m \u001b[38;5;21;01mta\u001b[39;00m\n\u001b[1;32m----> 3\u001b[0m \u001b[43mdf\u001b[49m\u001b[38;5;241m.\u001b[39mta\u001b[38;5;241m.\u001b[39msma(close\u001b[38;5;241m=\u001b[39m\u001b[38;5;124m'\u001b[39m\u001b[38;5;124mclose\u001b[39m\u001b[38;5;124m'\u001b[39m, length\u001b[38;5;241m=\u001b[39m\u001b[38;5;241m5\u001b[39m, append\u001b[38;5;241m=\u001b[39m\u001b[38;5;28;01mTrue\u001b[39;00m)\n\u001b[0;32m      4\u001b[0m df\u001b[38;5;241m.\u001b[39mta\u001b[38;5;241m.\u001b[39msma(close\u001b[38;5;241m=\u001b[39m\u001b[38;5;124m'\u001b[39m\u001b[38;5;124mclose\u001b[39m\u001b[38;5;124m'\u001b[39m, length\u001b[38;5;241m=\u001b[39m\u001b[38;5;241m10\u001b[39m, append\u001b[38;5;241m=\u001b[39m\u001b[38;5;28;01mTrue\u001b[39;00m)\n\u001b[0;32m      5\u001b[0m df\u001b[38;5;241m.\u001b[39mta\u001b[38;5;241m.\u001b[39msma(close\u001b[38;5;241m=\u001b[39m\u001b[38;5;124m'\u001b[39m\u001b[38;5;124mclose\u001b[39m\u001b[38;5;124m'\u001b[39m, length\u001b[38;5;241m=\u001b[39m\u001b[38;5;241m20\u001b[39m, append\u001b[38;5;241m=\u001b[39m\u001b[38;5;28;01mTrue\u001b[39;00m)\n",
      "\u001b[1;31mNameError\u001b[0m: name 'df' is not defined"
     ]
    }
   ],
   "source": [
    "#!pip install pandas_ta\n",
    "import pandas_ta as ta\n",
    "df.ta.sma(close='close', length=5, append=True)\n",
    "df.ta.sma(close='close', length=10, append=True)\n",
    "df.ta.sma(close='close', length=20, append=True)"
   ]
  },
  {
   "cell_type": "markdown",
   "id": "a18b5ba6",
   "metadata": {},
   "source": [
    "### SMA V.2"
   ]
  },
  {
   "cell_type": "code",
   "execution_count": 12,
   "id": "76afad70",
   "metadata": {},
   "outputs": [
    {
     "ename": "SyntaxError",
     "evalue": "invalid syntax (803259736.py, line 1)",
     "output_type": "error",
     "traceback": [
      "\u001b[1;36m  Input \u001b[1;32mIn [12]\u001b[1;36m\u001b[0m\n\u001b[1;33m    df['pandas_SMA_3'] = df.iloc[:,1].rolling(window=3).mean()|\u001b[0m\n\u001b[1;37m                                                               ^\u001b[0m\n\u001b[1;31mSyntaxError\u001b[0m\u001b[1;31m:\u001b[0m invalid syntax\n"
     ]
    }
   ],
   "source": [
    "df['pandas_SMA_3'] = df.iloc[:,1].rolling(window=3).mean()|"
   ]
  },
  {
   "cell_type": "markdown",
   "id": "e7dd0c2d",
   "metadata": {},
   "source": [
    "### Forecasting"
   ]
  },
  {
   "cell_type": "code",
   "execution_count": 9,
   "id": "34816a6d",
   "metadata": {},
   "outputs": [],
   "source": [
    "from sktime.forecasting.base import ForecastingHorizon\n",
    "from sktime.forecasting.naive import NaiveForecaster\n",
    "from sktime.datasets import load_airline\n",
    "import numpy as np\n",
    "\n",
    "# step 1: data specification\n",
    "y = load_airline()\n",
    "\n",
    "# step 2: specifying forecasting horizon\n",
    "fh = np.arange(1, 37)\n",
    "\n",
    "# step 3: specifying the forecasting algorithm\n",
    "forecaster = NaiveForecaster(strategy=\"last\", sp=12) #strategy = \"last\", \"mean\", \"drift\"\n",
    "\n",
    "# step 4: fitting the forecaster\n",
    "forecaster.fit(y)\n",
    "\n",
    "# step 5: querying predictions\n",
    "y_pred = forecaster.predict(fh)"
   ]
  },
  {
   "cell_type": "code",
   "execution_count": 10,
   "id": "0781431d",
   "metadata": {},
   "outputs": [
    {
     "data": {
      "text/plain": [
       "1961-01    417.0\n",
       "1961-02    391.0\n",
       "1961-03    419.0\n",
       "1961-04    461.0\n",
       "1961-05    472.0\n",
       "1961-06    535.0\n",
       "1961-07    622.0\n",
       "1961-08    606.0\n",
       "1961-09    508.0\n",
       "1961-10    461.0\n",
       "1961-11    390.0\n",
       "1961-12    432.0\n",
       "1962-01    417.0\n",
       "1962-02    391.0\n",
       "1962-03    419.0\n",
       "1962-04    461.0\n",
       "1962-05    472.0\n",
       "1962-06    535.0\n",
       "1962-07    622.0\n",
       "1962-08    606.0\n",
       "1962-09    508.0\n",
       "1962-10    461.0\n",
       "1962-11    390.0\n",
       "1962-12    432.0\n",
       "1963-01    417.0\n",
       "1963-02    391.0\n",
       "1963-03    419.0\n",
       "1963-04    461.0\n",
       "1963-05    472.0\n",
       "1963-06    535.0\n",
       "1963-07    622.0\n",
       "1963-08    606.0\n",
       "1963-09    508.0\n",
       "1963-10    461.0\n",
       "1963-11    390.0\n",
       "1963-12    432.0\n",
       "Freq: M, dtype: float64"
      ]
     },
     "execution_count": 10,
     "metadata": {},
     "output_type": "execute_result"
    }
   ],
   "source": [
    "y_pred"
   ]
  },
  {
   "cell_type": "markdown",
   "id": "cb2f2ed9",
   "metadata": {},
   "source": [
    "Model"
   ]
  },
  {
   "cell_type": "code",
   "execution_count": null,
   "id": "77f8eba2",
   "metadata": {},
   "outputs": [],
   "source": []
  }
 ],
 "metadata": {
  "kernelspec": {
   "display_name": "Python 3 (ipykernel)",
   "language": "python",
   "name": "python3"
  },
  "language_info": {
   "codemirror_mode": {
    "name": "ipython",
    "version": 3
   },
   "file_extension": ".py",
   "mimetype": "text/x-python",
   "name": "python",
   "nbconvert_exporter": "python",
   "pygments_lexer": "ipython3",
   "version": "3.9.12"
  }
 },
 "nbformat": 4,
 "nbformat_minor": 5
}
