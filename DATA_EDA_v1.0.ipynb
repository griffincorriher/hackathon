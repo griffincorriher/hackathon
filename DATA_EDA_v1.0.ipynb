{
 "cells": [
  {
   "cell_type": "code",
   "execution_count": null,
   "id": "71bf6bf3",
   "metadata": {},
   "outputs": [],
   "source": [
    "import pandas as pd\n",
    "from pandas_profiling import ProfileReport as pr\n",
    "from datetime import datetime\n",
    "from dateutil.relativedelta import relativedelta\n",
    "from dateutil.parser import parse\n",
    "import requests\n",
    "import json\n",
    "from sklearn.linear_model import LinearRegression"
   ]
  },
  {
   "cell_type": "code",
   "execution_count": null,
   "id": "1caa1de3",
   "metadata": {},
   "outputs": [],
   "source": [
    "train_data = pd.read_csv(\"Challenge1_train_data.csv\")"
   ]
  },
  {
   "cell_type": "code",
   "execution_count": null,
   "id": "0432887c",
   "metadata": {},
   "outputs": [],
   "source": [
    "train_data.head()"
   ]
  },
  {
   "cell_type": "code",
   "execution_count": null,
   "id": "3e6ac143",
   "metadata": {},
   "outputs": [],
   "source": [
    "train_data.info()"
   ]
  },
  {
   "cell_type": "code",
   "execution_count": null,
   "id": "6156dbdf",
   "metadata": {},
   "outputs": [],
   "source": [
    "train_data.date.min(),train_data.date.max()"
   ]
  },
  {
   "cell_type": "code",
   "execution_count": null,
   "id": "8be949ad",
   "metadata": {},
   "outputs": [],
   "source": [
    "test_date = parse(train_data.date.max()) + relativedelta(days=-14)\n",
    "str(test_date)"
   ]
  },
  {
   "cell_type": "code",
   "execution_count": null,
   "id": "65b38825",
   "metadata": {},
   "outputs": [],
   "source": [
    "profile = pr(train_data, title=\"ATD Data Analysis\", explorative=True)\n",
    "profile.to_file(\"atd_report.html\")"
   ]
  },
  {
   "cell_type": "code",
   "execution_count": null,
   "id": "edb03ad7",
   "metadata": {},
   "outputs": [],
   "source": [
    "train_data[train_data['retail_price']==0]"
   ]
  },
  {
   "cell_type": "code",
   "execution_count": null,
   "id": "808169b5",
   "metadata": {},
   "outputs": [],
   "source": [
    "len(train_data)"
   ]
  },
  {
   "cell_type": "code",
   "execution_count": null,
   "id": "701c1153",
   "metadata": {},
   "outputs": [],
   "source": [
    "###here we are getting the weather data from the api into a dataframe for all the cities\n",
    "\n",
    "\n",
    "weather_sacramento_url = f'https://archive-api.open-meteo.com/v1/era5?latitude=38.5816&longitude=-121.4944&start_date=2020-09-20&end_date=2022-09-19&timezone=GMT&daily=temperature_2m_max,temperature_2m_min,precipitation_sum,windspeed_10m_max' \n",
    "weather_bakersfield_url= f'https://archive-api.open-meteo.com/v1/era5?latitude=35.3733&longitude=-119.0187&start_date=2020-09-20&end_date=2022-09-19&timezone=GMT&daily=temperature_2m_max,temperature_2m_min,precipitation_sum,windspeed_10m_max'\n",
    "weather_sanjose_url = f'https://archive-api.open-meteo.com/v1/era5?latitude=37.3387&longitude=-121.8853&start_date=2020-09-20&end_date=2022-09-19&timezone=GMT&daily=temperature_2m_max,temperature_2m_min,precipitation_sum,windspeed_10m_max'\n",
    "weather_oakland_url = f'https://archive-api.open-meteo.com/v1/era5?latitude=37.8044&longitude=-122.2712&start_date=2020-09-20&end_date=2022-09-19&timezone=GMT&daily=temperature_2m_max,temperature_2m_min,precipitation_sum,windspeed_10m_max'\n",
    "\n",
    "\n",
    "def get_weather_data(url,city_name):\n",
    "    weather_resp = requests.get(url)\n",
    "    a=weather_resp.json()\n",
    "    weather=pd.DataFrame.from_dict(a.get('daily'))\n",
    "    weather['city_name']=city_name\n",
    "    return weather\n",
    "\n",
    "weather_sacramento=get_weather_data(weather_sacramento_url,'SACRAMENTO')\n",
    "print(weather_sacramento.info())\n",
    "\n",
    "weather_bakersfield=get_weather_data(weather_bakersfield_url,'BAKERSFIELD')\n",
    "print(weather_bakersfield.info())\n",
    "weather_sanjose=get_weather_data(weather_sanjose_url,'SAN JOSE')\n",
    "print(weather_sanjose.info())\n",
    "weather_oakland= get_weather_data(weather_oakland_url,'OAKLAND')\n",
    "print(weather_oakland.info())\n",
    "\n"
   ]
  },
  {
   "cell_type": "code",
   "execution_count": null,
   "id": "bcd02dae",
   "metadata": {},
   "outputs": [],
   "source": [
    "weather_data = pd.concat([weather_sacramento, weather_bakersfield,weather_sanjose,weather_oakland],ignore_index=True)\n",
    "weather_data.head()"
   ]
  },
  {
   "cell_type": "code",
   "execution_count": null,
   "id": "12aeedfb",
   "metadata": {},
   "outputs": [],
   "source": [
    "train_data = train_data.merge(weather_data, how='left', left_on=['date', 'dc_name'], right_on=['time', 'city_name']).drop(columns=['city_name','time'])\n",
    "train_data.head()"
   ]
  },
  {
   "cell_type": "markdown",
   "id": "5eb3b8bf",
   "metadata": {},
   "source": [
    "## Exploratory Data Anlaysis"
   ]
  },
  {
   "cell_type": "code",
   "execution_count": null,
   "id": "c7d92d2e",
   "metadata": {},
   "outputs": [],
   "source": [
    "zero_data = train_data[train_data['retail_price']==0]\n",
    "grouped_size_data = zero_data.groupby(['dc_name','size_code'])['date'].count()\n",
    "grouped_size_data"
   ]
  },
  {
   "cell_type": "code",
   "execution_count": null,
   "id": "ca704063",
   "metadata": {},
   "outputs": [],
   "source": [
    "grouped_dc_data = zero_data.groupby(['dc_name'])['date'].count()\n",
    "grouped_dc_data"
   ]
  },
  {
   "cell_type": "markdown",
   "id": "2023e32e",
   "metadata": {},
   "source": [
    "## Data Classification"
   ]
  },
  {
   "cell_type": "code",
   "execution_count": null,
   "id": "4f8873d0",
   "metadata": {},
   "outputs": [],
   "source": [
    "train_data['Key'] = train_data['dc_name'] +'|' +train_data['size_code'].astype(str)"
   ]
  },
  {
   "cell_type": "code",
   "execution_count": null,
   "id": "daa3d018",
   "metadata": {},
   "outputs": [],
   "source": [
    "train_data['date'] = pd.to_datetime(train_data['date'])\n",
    "train_data.head()"
   ]
  },
  {
   "cell_type": "code",
   "execution_count": null,
   "id": "a16e9b7d",
   "metadata": {},
   "outputs": [],
   "source": [
    "train_df = train_data[train_data['date']<str(test_date)]"
   ]
  },
  {
   "cell_type": "code",
   "execution_count": null,
   "id": "0afd7cba",
   "metadata": {},
   "outputs": [],
   "source": [
    "cv_data = train_df.groupby(['Key']).agg(average=('total_tires','mean'),\n",
    "                                                    sd=('total_tires','std')).reset_index()\n",
    "#cv_data['key_adi']= cv_data['dc_name']+'|'+cv_data['size_code'].astype(str)"
   ]
  },
  {
   "cell_type": "code",
   "execution_count": null,
   "id": "9b95b760",
   "metadata": {},
   "outputs": [],
   "source": [
    "## Calculating CV_squared\n",
    "\n",
    "cv_data['cv_sqr'] = (cv_data['sd']/cv_data['average'])**2\n",
    "cv_data"
   ]
  },
  {
   "cell_type": "code",
   "execution_count": null,
   "id": "32d5f1b8",
   "metadata": {},
   "outputs": [],
   "source": [
    "#train_df['key_adi'] = train_df['dc_name']+'|'+train_df['size_code'].astype(str)\n",
    "\n",
    "non_zero_df = train_df[train_df['total_tires']>0]\n",
    "non_zero_df = non_zero_df.dropna(subset=('total_tires'))\n",
    "tire_by_date= non_zero_df.groupby(['Key','date']).agg(count=('Key','count')).reset_index()"
   ]
  },
  {
   "cell_type": "code",
   "execution_count": null,
   "id": "8e31dd4e",
   "metadata": {},
   "outputs": [],
   "source": [
    "skus=tire_by_date.Key.value_counts()\n",
    "skus"
   ]
  },
  {
   "cell_type": "code",
   "execution_count": null,
   "id": "24136672",
   "metadata": {},
   "outputs": [],
   "source": [
    "new_df= pd.DataFrame()\n",
    "for i in range(len(skus.index)):\n",
    "    a= tire_by_date[tire_by_date['Key']==skus.index[i]]\n",
    "    a['previous_date']=a['date'].shift(1)\n",
    "    new_df=pd.concat([new_df,a],axis=0)"
   ]
  },
  {
   "cell_type": "code",
   "execution_count": null,
   "id": "ffdb8a4c",
   "metadata": {},
   "outputs": [],
   "source": [
    "new_df['duration']=new_df['date']- new_df['previous_date']"
   ]
  },
  {
   "cell_type": "code",
   "execution_count": null,
   "id": "02476f7d",
   "metadata": {},
   "outputs": [],
   "source": [
    "new_df.head()"
   ]
  },
  {
   "cell_type": "code",
   "execution_count": null,
   "id": "d78d0b0d",
   "metadata": {},
   "outputs": [],
   "source": [
    "new_df['Duration']=new_df['duration'].astype(str).str.replace('days','')\n",
    "new_df['Duration']=pd.to_numeric(new_df['Duration'],errors='coerce')\n",
    "ADI = new_df.groupby('Key').agg(ADI = ('Duration','mean')).reset_index()\n",
    "ADI"
   ]
  },
  {
   "cell_type": "code",
   "execution_count": null,
   "id": "2d805a49",
   "metadata": {},
   "outputs": [],
   "source": [
    "adi_cv=pd.merge(ADI,cv_data)\n",
    "adi_cv"
   ]
  },
  {
   "cell_type": "code",
   "execution_count": null,
   "id": "e7259fba",
   "metadata": {},
   "outputs": [],
   "source": [
    "def category(df):\n",
    "    a=0\n",
    "    \n",
    "    if((df['ADI']<=1.34) & (df['cv_sqr']<=0.49)):\n",
    "        a='Smooth'\n",
    "    if((df['ADI']>=1.34) & (df['cv_sqr']>=0.49)):  \n",
    "        a='Lumpy'\n",
    "    if((df['ADI']<1.34) & (df['cv_sqr']>0.49)):\n",
    "        a='Erratic'\n",
    "    if((df['ADI']>1.34) & (df['cv_sqr']<0.49)):\n",
    "        a='Intermittent'\n",
    "    return a"
   ]
  },
  {
   "cell_type": "code",
   "execution_count": null,
   "id": "8cace484",
   "metadata": {},
   "outputs": [],
   "source": [
    "adi_cv['category']=adi_cv.apply(category,axis=1)\n",
    "adi_cv[['Key','category']]"
   ]
  },
  {
   "cell_type": "code",
   "execution_count": null,
   "id": "50a78c66",
   "metadata": {},
   "outputs": [],
   "source": [
    "adi_cv.category.value_counts()\n"
   ]
  },
  {
   "cell_type": "code",
   "execution_count": null,
   "id": "889ce742",
   "metadata": {},
   "outputs": [],
   "source": [
    "train_data = train_data.merge(adi_cv[['Key','category']],on=['Key'],how='left')"
   ]
  },
  {
   "cell_type": "code",
   "execution_count": null,
   "id": "60ae3562",
   "metadata": {},
   "outputs": [],
   "source": [
    "train_data"
   ]
  },
  {
   "cell_type": "markdown",
   "id": "a8a6eb7e",
   "metadata": {},
   "source": [
    "### Handling Missing Values"
   ]
  },
  {
   "cell_type": "code",
   "execution_count": null,
   "id": "524b350f",
   "metadata": {},
   "outputs": [],
   "source": [
    "train_data[train_data['retail_price'].isna()]"
   ]
  },
  {
   "cell_type": "code",
   "execution_count": null,
   "id": "64a6f89c",
   "metadata": {},
   "outputs": [],
   "source": [
    "# Impute the missing values for the retail_price\n",
    "df_sacramento = train_data[train_data['dc_name']=='SACRAMENTO']\n",
    "\n",
    "sac_sizecode = df_sacramento[df_sacramento['retail_price'].isna()]['size_code'].tolist()\n",
    "\n",
    "for code in sac_sizecode : \n",
    "    # Get the mean value\n",
    "    mean_value = df_sacramento[(df_sacramento['size_code'] == code) & ((~df_sacramento['retail_price'].isna()) & (df_sacramento['retail_price'] != 0))]['retail_price'].mean()\n",
    "    df_sacramento.loc[(df_sacramento['size_code'] == code) & (df_sacramento['retail_price'].isna()), 'retail_price'] = mean_value"
   ]
  },
  {
   "cell_type": "code",
   "execution_count": null,
   "id": "aae837fc",
   "metadata": {},
   "outputs": [],
   "source": [
    "# Putting the sacramento data into the main dataframe after imputing\n",
    "indexes_to_drop = train_data[train_data['dc_name']=='SACRAMENTO'].index\n",
    "train_data.drop(index= indexes_to_drop, inplace = True)\n",
    "train_data = pd.concat([\n",
    "    train_data,df_sacramento\n",
    "], ignore_index= True)"
   ]
  },
  {
   "cell_type": "code",
   "execution_count": null,
   "id": "0152646b",
   "metadata": {},
   "outputs": [],
   "source": [
    "train_data['day_name'] = train_data['date'].dt.day_name()"
   ]
  },
  {
   "cell_type": "code",
   "execution_count": null,
   "id": "53002649",
   "metadata": {},
   "outputs": [],
   "source": [
    "train_data.info()"
   ]
  },
  {
   "cell_type": "markdown",
   "id": "bc3df432",
   "metadata": {},
   "source": [
    "## Univariate Models"
   ]
  },
  {
   "cell_type": "code",
   "execution_count": null,
   "id": "79957efc",
   "metadata": {},
   "outputs": [],
   "source": [
    "uni_train_data = train_data[['Key','dc_name','size_code','date','total_tires']].sort_values(['Key','dc_name','size_code','date'])\n",
    "uni_train_data"
   ]
  },
  {
   "cell_type": "code",
   "execution_count": null,
   "id": "a7ff57c3",
   "metadata": {},
   "outputs": [],
   "source": [
    "uni_train_data['date'] = pd.to_datetime(uni_train_data['date'])\n",
    "uni_train_data.head()"
   ]
  },
  {
   "cell_type": "code",
   "execution_count": null,
   "id": "e37c6aad",
   "metadata": {},
   "outputs": [],
   "source": [
    "train_df = uni_train_data[uni_train_data['date']<str(test_date)][['date','total_tires']]\n",
    "test_df = uni_train_data[uni_train_data['date']>=str(test_date)][['date','total_tires']]"
   ]
  },
  {
   "cell_type": "code",
   "execution_count": null,
   "id": "91242e03",
   "metadata": {},
   "outputs": [],
   "source": [
    "def model_training(sliced_data):\n",
    "    \n",
    "    train_df=train_df.reset_index()\n",
    "    test_df=test_df.reset_index()\n",
    "    x_train = train_df['date'].values.reshape(-1, 1)\n",
    "    x_train = x_train.astype(float)\n",
    "    y_train = train_df['total_tires'].values\n",
    "    \n",
    "    x_test = test_df['date'].values.reshape(-1, 1)\n",
    "    x_test = x_test.astype(float)\n",
    "    t_test = test_df['total_tires'].values\n",
    "    \n",
    "    \n",
    "    \n",
    "    regressor = LinearRegression() \n",
    "        \n",
    "    regressor.fit(x_train,y_train)\n",
    "        \n",
    "\n",
    "    y_test = regressor.predict(x_test)\n",
    "    test_df['Forecast'] = y_test.round()\n",
    "    test_df['Model'] = 'Linear_Regression'\n",
    "    return test_df\n",
    "    "
   ]
  },
  {
   "cell_type": "code",
   "execution_count": null,
   "id": "ac9913a9",
   "metadata": {},
   "outputs": [],
   "source": [
    "result_df = uni_train_data.groupby('Key').apply(model_training).reset_index()\n",
    "result_df = uni_train_data.groupby('Key').apply(model_training).reset_index()\n",
    "result_df = result_df[['Key','date','total_tires','Forecast','Model']]\n",
    "\n",
    "result_df.reset_index()"
   ]
  },
  {
   "cell_type": "code",
   "execution_count": null,
   "id": "4c4187c4",
   "metadata": {},
   "outputs": [],
   "source": [
    "result_df.date.unique()"
   ]
  },
  {
   "cell_type": "code",
   "execution_count": null,
   "id": "86261d0b",
   "metadata": {},
   "outputs": [],
   "source": []
  }
 ],
 "metadata": {
  "kernelspec": {
   "display_name": "Python 3 (ipykernel)",
   "language": "python",
   "name": "python3"
  },
  "language_info": {
   "codemirror_mode": {
    "name": "ipython",
    "version": 3
   },
   "file_extension": ".py",
   "mimetype": "text/x-python",
   "name": "python",
   "nbconvert_exporter": "python",
   "pygments_lexer": "ipython3",
   "version": "3.9.12"
  }
 },
 "nbformat": 4,
 "nbformat_minor": 5
}
