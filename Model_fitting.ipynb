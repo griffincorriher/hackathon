{
 "cells": [
  {
   "cell_type": "code",
   "execution_count": null,
   "id": "c1f4e091",
   "metadata": {},
   "outputs": [],
   "source": [
    "import pandas as pd\n",
    "import numpy as np"
   ]
  },
  {
   "cell_type": "code",
   "execution_count": null,
   "id": "8588a1cc",
   "metadata": {},
   "outputs": [],
   "source": [
    "raw_data = pd.read_csv(\"cleansed_data.csv\")\n",
    "forecast_data = pd.read_csv(\"forecast_data.csv\")"
   ]
  },
  {
   "cell_type": "code",
   "execution_count": null,
   "id": "c824d854",
   "metadata": {},
   "outputs": [],
   "source": [
    "raw_data.head()\n"
   ]
  },
  {
   "cell_type": "code",
   "execution_count": null,
   "id": "b039dfd9",
   "metadata": {},
   "outputs": [],
   "source": [
    "forecast_data['Key'] = forecast_data['dc_name'] + '|'+forecast_data['size_code'].astype(str)\n",
    "forecast_data.head()"
   ]
  },
  {
   "cell_type": "code",
   "execution_count": null,
   "id": "312c662d",
   "metadata": {},
   "outputs": [],
   "source": [
    "train_data = raw_data[['date','Key','total_tires']]\n",
    "train_data['date'] = pd.to_datetime(train_data['date'])\n",
    "forecast_data['date'] = pd.to_datetime(forecast_data['date'])"
   ]
  },
  {
   "cell_type": "code",
   "execution_count": null,
   "id": "850157eb",
   "metadata": {},
   "outputs": [],
   "source": [
    "from sklearn.linear_model import LinearRegression\n"
   ]
  },
  {
   "cell_type": "code",
   "execution_count": null,
   "id": "69e40469",
   "metadata": {},
   "outputs": [],
   "source": [
    "train_data"
   ]
  },
  {
   "cell_type": "code",
   "execution_count": null,
   "id": "de5276a3",
   "metadata": {},
   "outputs": [],
   "source": [
    "def linear_reg(sliced_data,future_data):\n",
    "\n",
    "\n",
    "    key = sliced_data['Key'].unique()[0]\n",
    "    #future_data = forecast_data.copy()\n",
    "\n",
    "    test_df = future_data[future_data['Key'] == key]\n",
    "    \n",
    "    x_train = sliced_data['date'].values.reshape(-1, 1)\n",
    "    x_train = x_train.astype(float)\n",
    "    y_train = sliced_data['total_tires'].values\n",
    "\n",
    "    x_test = test_df['date'].values.reshape(-1, 1)\n",
    "    x_test = x_test.astype(float)\n",
    "\n",
    "    \n",
    "    regressor = LinearRegression() \n",
    "\n",
    "    regressor.fit(x_train,y_train)\n",
    "    \n",
    "\n",
    "    y_test = regressor.predict(x_test)\n",
    "    \n",
    "    test_df['Forecast'] = y_test.round()\n",
    "    test_df['Model'] = 'Linear_Regression'\n",
    "    test_df['Type'] = 'Univariate'\n",
    "    test_df = test_df.drop(columns='Key')\n",
    "    return test_df\n"
   ]
  },
  {
   "cell_type": "code",
   "execution_count": null,
   "id": "24cc6294",
   "metadata": {},
   "outputs": [],
   "source": [
    "py_af_output = train_data.groupby('Key').apply(linear_reg,forecast_data).reset_index()"
   ]
  },
  {
   "cell_type": "code",
   "execution_count": null,
   "id": "bcf62ed9",
   "metadata": {},
   "outputs": [],
   "source": [
    "py_af_output"
   ]
  },
  {
   "cell_type": "code",
   "execution_count": null,
   "id": "e501c1ee",
   "metadata": {},
   "outputs": [],
   "source": [
    "linear_result = py_af_output[['date','dc_name','size_code','Forecast']].rename(columns={'Forecast':'total_tires'})\n",
    "linear_result"
   ]
  },
  {
   "cell_type": "code",
   "execution_count": null,
   "id": "5eb7f7c5",
   "metadata": {},
   "outputs": [],
   "source": [
    "pip install AutoTS"
   ]
  },
  {
   "cell_type": "code",
   "execution_count": null,
   "id": "e1ee7910",
   "metadata": {},
   "outputs": [],
   "source": [
    "from autots import AutoTS"
   ]
  },
  {
   "cell_type": "code",
   "execution_count": null,
   "id": "8949aa97",
   "metadata": {},
   "outputs": [],
   "source": [
    "model = AutoTS(\n",
    "    forecast_length=15,\n",
    "    frequency='D',\n",
    "    prediction_interval=0.95,\n",
    "    ensemble=None,\n",
    "    models_mode='deep',\n",
    "    model_list = 'univariate',# or ['ARIMA','ETS']\n",
    "    max_generations=10,\n",
    "    num_validations=3,\n",
    "    no_negatives=True,\n",
    "    n_jobs='auto')"
   ]
  },
  {
   "cell_type": "code",
   "execution_count": null,
   "id": "327e9e3a",
   "metadata": {},
   "outputs": [],
   "source": [
    "from autots.models.model_list import model_lists\n",
    "print(model_lists.keys())"
   ]
  },
  {
   "cell_type": "code",
   "execution_count": null,
   "id": "e123b300",
   "metadata": {},
   "outputs": [],
   "source": [
    "print(model_lists['univariate'])"
   ]
  },
  {
   "cell_type": "code",
   "execution_count": null,
   "id": "9be42add",
   "metadata": {},
   "outputs": [],
   "source": [
    "def auto_ml(sliced_data,future_data):\n",
    "    model = AutoTS(\n",
    "    forecast_length=7,\n",
    "    frequency='D',\n",
    "    prediction_interval=0.95,\n",
    "    ensemble=None,\n",
    "    models_mode='deep',\n",
    "    model_list = 'univariate',# or ['ARIMA','ETS']\n",
    "    max_generations=5,\n",
    "    num_validations=3,\n",
    "    no_negatives=True,\n",
    "    n_jobs='auto')\n",
    "\n",
    "    key = sliced_data['Key'].unique()[0]\n",
    "\n",
    "    test_df = future_data[future_data['Key'] == key]\n",
    "    \n",
    "    sliced_data.set_index('date', inplace=True)\n",
    "    model.fit(sliced_data['total_tires'])\n",
    "    prediction = model.predict(forecast_length=7)\n",
    "    \n",
    "    test_df['Forecast'] = prediction.forecast['total_tires'].values.tolist()\n",
    "    test_df['Forecast'] = test_df['Forecast'].round()\n",
    "    test_df['Model'] = 'Auto_ML_Best_Model'\n",
    "    test_df['Type'] = 'Univariate'\n",
    "    test_df = test_df.drop(columns='Key')\n",
    "    return test_df"
   ]
  },
  {
   "cell_type": "code",
   "execution_count": null,
   "id": "645b284c",
   "metadata": {},
   "outputs": [],
   "source": [
    "train_data = train_data[train_data['dc_name'] == 'BAKERSFIELD']\n",
    "auto_output = train_data.groupby('Key').apply(auto_ml,forecast_data).reset_index()"
   ]
  },
  {
   "cell_type": "code",
   "execution_count": null,
   "id": "b52f689e",
   "metadata": {},
   "outputs": [],
   "source": [
    "auto_output = auto_output[['date','dc_name','size_code','Forecast']].rename(columns={'Forecast':'total_tires'})\n",
    "auto_output"
   ]
  },
  {
   "cell_type": "code",
   "execution_count": null,
   "id": "5d5d5f11",
   "metadata": {},
   "outputs": [],
   "source": []
  },
  {
   "cell_type": "code",
   "execution_count": null,
   "id": "41c63788",
   "metadata": {},
   "outputs": [],
   "source": []
  },
  {
   "cell_type": "code",
   "execution_count": null,
   "id": "0d309143",
   "metadata": {},
   "outputs": [],
   "source": []
  },
  {
   "cell_type": "code",
   "execution_count": null,
   "id": "c16450f1",
   "metadata": {},
   "outputs": [],
   "source": []
  },
  {
   "cell_type": "code",
   "execution_count": null,
   "id": "8ed1d68e",
   "metadata": {},
   "outputs": [],
   "source": []
  },
  {
   "cell_type": "code",
   "execution_count": null,
   "id": "cfa93da4",
   "metadata": {},
   "outputs": [],
   "source": [
    "#import requests\n",
    "#url = \"https://scoring-app-uuzeqpiufa-ue.a.run.app/forecast/validate\"\n",
    "#payload = {\n",
    "  \n",
    "#\"team_key\": \"9MaRyrU5\",\n",
    "#\"data\": df_submission.to_dict(orient=\"records\")}\n",
    "#response = requests.post(url, json=payload) \n",
    "#print(response.status_code, response.content)"
   ]
  }
 ],
 "metadata": {
  "kernelspec": {
   "display_name": "Python 3 (ipykernel)",
   "language": "python",
   "name": "python3"
  },
  "language_info": {
   "codemirror_mode": {
    "name": "ipython",
    "version": 3
   },
   "file_extension": ".py",
   "mimetype": "text/x-python",
   "name": "python",
   "nbconvert_exporter": "python",
   "pygments_lexer": "ipython3",
   "version": "3.9.12"
  }
 },
 "nbformat": 4,
 "nbformat_minor": 5
}
