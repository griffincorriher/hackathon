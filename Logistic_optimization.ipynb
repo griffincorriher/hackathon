{
 "cells": [
  {
   "cell_type": "code",
   "execution_count": 37,
   "id": "e92094e8",
   "metadata": {},
   "outputs": [],
   "source": [
    "import pandas as pd\n",
    "import numpy as np\n"
   ]
  },
  {
   "cell_type": "code",
   "execution_count": 45,
   "id": "7c09da85",
   "metadata": {},
   "outputs": [
    {
     "name": "stdout",
     "output_type": "stream",
     "text": [
      "       dc_name vehicle_name vehicle_type  base_ghg_per_mile  \\\n",
      "0  KANSAS CITY    DESDAMONA           EV                 26   \n",
      "1  KANSAS CITY      ELEANOR           EV                 26   \n",
      "2    ST. LOUIS         GINA           EV                 26   \n",
      "3    ST. LOUIS       BESSIE           EV                 26   \n",
      "4  SPRINGFIELD        WAGGY           EV                 26   \n",
      "\n",
      "   extra_ghg_per_tire_per_mile  max_tire_capacity  \n",
      "0                      0.00405                260  \n",
      "1                      0.00405                260  \n",
      "2                      0.00405                260  \n",
      "3                      0.00405                260  \n",
      "4                      0.00405                260  \n",
      "       dc_name  tires\n",
      "0  KANSAS CITY   1126\n",
      "1    ST. LOUIS    929\n",
      "2  SPRINGFIELD    436\n",
      "       dc_name destination  distance\n",
      "0    ST. LOUIS    RECYCLER       933\n",
      "1  SPRINGFIELD    RECYCLER       869\n",
      "2  KANSAS CITY    RECYCLER       759\n",
      "3    ST. LOUIS         HUB       248\n",
      "4  SPRINGFIELD         HUB       163\n",
      "   location  max_tire_capacity\n",
      "0       HUB               2000\n",
      "1     TRAIN                800\n",
      "2  RECYCLER               1500\n"
     ]
    }
   ],
   "source": [
    "vehicle = pd.read_csv(\"Challenge2_vehicles_public.csv\")\n",
    "total_tires = pd.read_csv(\"Challenge2_total_tires_public.csv\")\n",
    "distance = pd.read_csv(\"Challenge2_distances_public.csv\")\n",
    "capacity = pd.read_csv(\"Challenge2_capacity_public.csv\")\n",
    "\n",
    "print(vehicle.head())\n",
    "print(total_tires.head())\n",
    "print(distance.head())\n",
    "print(capacity.head())"
   ]
  },
  {
   "cell_type": "code",
   "execution_count": 46,
   "id": "6066e362",
   "metadata": {},
   "outputs": [
    {
     "name": "stdout",
     "output_type": "stream",
     "text": [
      "        dc_name vehicle_name vehicle_type  base_ghg_per_mile  \\\n",
      "0   KANSAS CITY    DESDAMONA           EV                 26   \n",
      "1   KANSAS CITY      ELEANOR           EV                 26   \n",
      "2     ST. LOUIS         GINA           EV                 26   \n",
      "3     ST. LOUIS       BESSIE           EV                 26   \n",
      "4   SPRINGFIELD        WAGGY           EV                 26   \n",
      "5   SPRINGFIELD      ROBOCOP           EV                 26   \n",
      "6   KANSAS CITY   TERMINATOR       DIESEL                 23   \n",
      "7   KANSAS CITY         BRUM       DIESEL                 23   \n",
      "8     ST. LOUIS        BEAST       DIESEL                 23   \n",
      "9     ST. LOUIS     ARROWCAR       DIESEL                 23   \n",
      "10  SPRINGFIELD        VIPER       DIESEL                 23   \n",
      "11  SPRINGFIELD        ROCKY       DIESEL                 23   \n",
      "\n",
      "    extra_ghg_per_tire_per_mile  max_tire_capacity allocate  \n",
      "0                       0.00405                260       No  \n",
      "1                       0.00405                260       No  \n",
      "2                       0.00405                260       No  \n",
      "3                       0.00405                260       No  \n",
      "4                       0.00405                260       No  \n",
      "5                       0.00405                260       No  \n",
      "6                       0.03915                335       No  \n",
      "7                       0.03915                335       No  \n",
      "8                       0.03915                335       No  \n",
      "9                       0.03915                335       No  \n",
      "10                      0.03915                335       No  \n",
      "11                      0.03915                335       No  \n",
      "   location  max_tire_capacity  filled  remaining_capacity\n",
      "0       HUB               2000       0                2000\n",
      "1     TRAIN                800       0                 800\n",
      "2  RECYCLER               1500       0                1500\n",
      "       dc_name  tires  sent  remaining\n",
      "0  KANSAS CITY   1126     0       1126\n",
      "1    ST. LOUIS    929     0        929\n",
      "2  SPRINGFIELD    436     0        436\n"
     ]
    }
   ],
   "source": [
    "vehicle.sort_values(by=['vehicle_type'])\n",
    "vehicle['allocate']='No'\n",
    "print(vehicle)\n",
    "distance.sort_values(by=['distance'],ascending=False)\n",
    "capacity['filled']=0\n",
    "capacity['remaining_capacity']=capacity['max_tire_capacity']-capacity['filled']\n",
    "print(capacity.head())\n",
    "total_tires['sent']=0\n",
    "total_tires['remaining']=total_tires['tires']-total_tires['sent']\n",
    "print(total_tires.head())"
   ]
  },
  {
   "cell_type": "code",
   "execution_count": 47,
   "id": "46c73ed0",
   "metadata": {},
   "outputs": [
    {
     "name": "stdout",
     "output_type": "stream",
     "text": [
      "1126\n",
      "866\n",
      "929\n",
      "669\n",
      "436\n",
      "606\n",
      "409\n"
     ]
    }
   ],
   "source": [
    "#print(city)\n",
    "#b=total_tires[total_tires[\"dc_name\"] == city]['remaining']\n",
    "#print(b)\n",
    "\n",
    "result_list=[]\n",
    "\n",
    "for index in vehicle.index:\n",
    "    #print(index)\n",
    "    if vehicle['allocate'][index]=='No':\n",
    "        #print(vehicle['allocate'][index])\n",
    "        city = vehicle['dc_name'][index]\n",
    "        vehicle_type= vehicle['vehicle_type'][index]\n",
    "        tire_capacity = vehicle['max_tire_capacity'][index]\n",
    "        vehicle_name=vehicle['vehicle_name'][index]\n",
    "        if total_tires[total_tires[\"dc_name\"] == city]['remaining'].values[0] > tire_capacity:\n",
    "            print(total_tires[total_tires[\"dc_name\"] == city]['remaining'].values[0])  \n",
    "            if capacity[capacity[\"location\"]=='RECYCLER']['remaining_capacity'].values[0] > tire_capacity:\n",
    "                capacity.loc[capacity[\"location\"]=='RECYCLER','filled'] = tire_capacity + capacity.loc[capacity[\"location\"]=='RECYCLER','filled']\n",
    "                #print(capacity.loc[capacity[\"location\"]=='RECYCLER','filled'])\n",
    "                #print(capacity[capacity[\"location\"]=='RECYCLER']['filled'].values[0])\n",
    "                capacity['remaining_capacity']=capacity['max_tire_capacity']-capacity['filled']\n",
    "                total_tires.loc[total_tires[\"dc_name\"]==city,'sent'] = tire_capacity + total_tires.loc[total_tires[\"dc_name\"]==city,'sent']\n",
    "                #total_tires[total_tires[\"dc_name\"] == city]['sent'].values[0]=total_tires[total_tires[\"dc_name\"] == city]['sent'].values[0]+tire_capacity\n",
    "                total_tires['remaining']=total_tires['tires']-total_tires['sent']\n",
    "                vehicle.loc[index,'allocate'] ='Yes'\n",
    "                \n",
    "                result_list.append([city,vehicle_name,'RECYCLER',tire_capacity])\n",
    "                \n",
    "            elif capacity[capacity[\"location\"]=='TRAIN']['remaining_capacity'].values[0] > tire_capacity:\n",
    "                capacity.loc[capacity[\"location\"]=='TRAIN','filled'] = tire_capacity + capacity.loc[capacity[\"location\"]=='TRAIN','filled']\n",
    "                #print(capacity.loc[capacity[\"location\"]=='RECYCLER','filled'])\n",
    "                #print(capacity[capacity[\"location\"]=='RECYCLER']['filled'].values[0])\n",
    "                capacity['remaining_capacity']=capacity['max_tire_capacity']-capacity['filled']\n",
    "                total_tires.loc[total_tires[\"dc_name\"]==city,'sent'] = tire_capacity + total_tires.loc[total_tires[\"dc_name\"]==city,'sent']\n",
    "                #total_tires[total_tires[\"dc_name\"] == city]['sent'].values[0]=total_tires[total_tires[\"dc_name\"] == city]['sent'].values[0]+tire_capacity\n",
    "                total_tires['remaining']=total_tires['tires']-total_tires['sent']\n",
    "                vehicle.loc[index,'allocate'] ='Yes'\n",
    "                result_list.append([city,vehicle_name,'TRAIN',tire_capacity])\n",
    "                \n",
    "                \n",
    "            elif capacity[capacity[\"location\"]=='HUB']['remaining_capacity'].values[0] > tire_capacity:\n",
    "                capacity.loc[capacity[\"location\"]=='HUB','filled'] = tire_capacity + capacity.loc[capacity[\"location\"]=='HUB','filled']\n",
    "                #print(capacity.loc[capacity[\"location\"]=='HUB','filled'])\n",
    "                #print(capacity[capacity[\"location\"]=='HUB']['filled'].values[0])\n",
    "                capacity['remaining_capacity']=capacity['max_tire_capacity']-capacity['filled']\n",
    "                total_tires.loc[total_tires[\"dc_name\"]==city,'sent'] = tire_capacity + total_tires.loc[total_tires[\"dc_name\"]==city,'sent']\n",
    "                #total_tires[total_tires[\"dc_name\"] == city]['sent'].values[0]=total_tires[total_tires[\"dc_name\"] == city]['sent'].values[0]+tire_capacity\n",
    "                total_tires['remaining']=total_tires['tires']-total_tires['sent']\n",
    "                vehicle.loc[index,'allocate'] ='Yes'\n",
    "                result_list.append([city,vehicle_name,'HUB',tire_capacity])\n",
    "\n",
    "                \n",
    "\n",
    "        "
   ]
  },
  {
   "cell_type": "code",
   "execution_count": 16,
   "id": "155fa5e0",
   "metadata": {},
   "outputs": [
    {
     "data": {
      "text/plain": [
       "'No'"
      ]
     },
     "execution_count": 16,
     "metadata": {},
     "output_type": "execute_result"
    }
   ],
   "source": [
    "vehicle.loc[1,'allocate']\n"
   ]
  },
  {
   "cell_type": "code",
   "execution_count": 48,
   "id": "3c78f0e3",
   "metadata": {},
   "outputs": [
    {
     "name": "stdout",
     "output_type": "stream",
     "text": [
      "        dc_name vehicle_name vehicle_type  base_ghg_per_mile  \\\n",
      "0   KANSAS CITY    DESDAMONA           EV                 26   \n",
      "1   KANSAS CITY      ELEANOR           EV                 26   \n",
      "2     ST. LOUIS         GINA           EV                 26   \n",
      "3     ST. LOUIS       BESSIE           EV                 26   \n",
      "4   SPRINGFIELD        WAGGY           EV                 26   \n",
      "5   SPRINGFIELD      ROBOCOP           EV                 26   \n",
      "6   KANSAS CITY   TERMINATOR       DIESEL                 23   \n",
      "7   KANSAS CITY         BRUM       DIESEL                 23   \n",
      "8     ST. LOUIS        BEAST       DIESEL                 23   \n",
      "9     ST. LOUIS     ARROWCAR       DIESEL                 23   \n",
      "10  SPRINGFIELD        VIPER       DIESEL                 23   \n",
      "11  SPRINGFIELD        ROCKY       DIESEL                 23   \n",
      "\n",
      "    extra_ghg_per_tire_per_mile  max_tire_capacity allocate  \n",
      "0                       0.00405                260      Yes  \n",
      "1                       0.00405                260      Yes  \n",
      "2                       0.00405                260      Yes  \n",
      "3                       0.00405                260      Yes  \n",
      "4                       0.00405                260      Yes  \n",
      "5                       0.00405                260       No  \n",
      "6                       0.03915                335      Yes  \n",
      "7                       0.03915                335       No  \n",
      "8                       0.03915                335      Yes  \n",
      "9                       0.03915                335       No  \n",
      "10                      0.03915                335       No  \n",
      "11                      0.03915                335       No  \n",
      "   location  max_tire_capacity  filled  remaining_capacity\n",
      "0       HUB               2000       0                2000\n",
      "1     TRAIN                800     670                 130\n",
      "2  RECYCLER               1500    1300                 200\n",
      "       dc_name  tires  sent  remaining\n",
      "0  KANSAS CITY   1126   855        271\n",
      "1    ST. LOUIS    929   855         74\n",
      "2  SPRINGFIELD    436   260        176\n"
     ]
    }
   ],
   "source": [
    "print(vehicle)\n",
    "print(capacity)\n",
    "print(total_tires)"
   ]
  },
  {
   "cell_type": "code",
   "execution_count": 49,
   "id": "e046e56a",
   "metadata": {},
   "outputs": [
    {
     "name": "stdout",
     "output_type": "stream",
     "text": [
      "       dc_name  tires  sent  remaining\n",
      "0  KANSAS CITY   1126   855        271\n",
      "2  SPRINGFIELD    436   260        176\n",
      "1    ST. LOUIS    929   855         74\n",
      "        dc_name vehicle_name vehicle_type  base_ghg_per_mile  \\\n",
      "5   SPRINGFIELD      ROBOCOP           EV                 26   \n",
      "0   KANSAS CITY    DESDAMONA           EV                 26   \n",
      "1   KANSAS CITY      ELEANOR           EV                 26   \n",
      "2     ST. LOUIS         GINA           EV                 26   \n",
      "3     ST. LOUIS       BESSIE           EV                 26   \n",
      "4   SPRINGFIELD        WAGGY           EV                 26   \n",
      "7   KANSAS CITY         BRUM       DIESEL                 23   \n",
      "9     ST. LOUIS     ARROWCAR       DIESEL                 23   \n",
      "10  SPRINGFIELD        VIPER       DIESEL                 23   \n",
      "11  SPRINGFIELD        ROCKY       DIESEL                 23   \n",
      "6   KANSAS CITY   TERMINATOR       DIESEL                 23   \n",
      "8     ST. LOUIS        BEAST       DIESEL                 23   \n",
      "\n",
      "    extra_ghg_per_tire_per_mile  max_tire_capacity allocate  \n",
      "5                       0.00405                260       No  \n",
      "0                       0.00405                260      Yes  \n",
      "1                       0.00405                260      Yes  \n",
      "2                       0.00405                260      Yes  \n",
      "3                       0.00405                260      Yes  \n",
      "4                       0.00405                260      Yes  \n",
      "7                       0.03915                335       No  \n",
      "9                       0.03915                335       No  \n",
      "10                      0.03915                335       No  \n",
      "11                      0.03915                335       No  \n",
      "6                       0.03915                335      Yes  \n",
      "8                       0.03915                335      Yes  \n"
     ]
    }
   ],
   "source": [
    "total_tires=total_tires.sort_values(by=['remaining'],ascending=False)\n",
    "print(total_tires)\n",
    "vehicle = vehicle.sort_values(by=['vehicle_type','allocate'],ascending=[False,True])\n",
    "print(vehicle)"
   ]
  },
  {
   "cell_type": "code",
   "execution_count": 50,
   "id": "26df33c7",
   "metadata": {},
   "outputs": [
    {
     "name": "stdout",
     "output_type": "stream",
     "text": [
      "continuing inner loop\n",
      "continuing inner loop\n",
      "continuing inner loop\n",
      "continuing inner loop\n",
      "continuing inner loop\n",
      "No\n",
      "335\n",
      "lower\n",
      "KANSAS CITY BRUM HUB 271 less than tire capacity\n",
      "continuing inner loop\n",
      "continuing inner loop\n",
      "No\n",
      "260\n",
      "lower\n",
      "SPRINGFIELD ROBOCOP HUB 176 less than tire capacity\n",
      "continuing inner loop\n",
      "continuing inner loop\n",
      "continuing inner loop\n",
      "continuing inner loop\n",
      "continuing inner loop\n",
      "No\n",
      "335\n",
      "No\n",
      "335\n",
      "continuing inner loop\n",
      "continuing inner loop\n",
      "continuing inner loop\n",
      "continuing inner loop\n",
      "continuing inner loop\n",
      "continuing inner loop\n",
      "continuing inner loop\n",
      "No\n",
      "335\n",
      "lower\n",
      "ST. LOUIS ARROWCAR TRAIN 74 less than tire capacity\n",
      "continuing inner loop\n",
      "continuing inner loop\n"
     ]
    }
   ],
   "source": [
    "for index in total_tires.index:\n",
    "    #vehicle.sort_values(by=['vehicle_type','allocate'],ascending=[True, True])\n",
    "    #print(index)\n",
    "    if total_tires['remaining'][index] > 0:\n",
    "        #print(\"yes\")\n",
    "        for i in vehicle.index:\n",
    "        #print(index)\n",
    "            if (vehicle['allocate'][i]=='No' and total_tires['dc_name'][index]==vehicle['dc_name'][i]) :\n",
    "            #print(vehicle['allocate'][index])\n",
    "                print(\"No\")\n",
    "                city = vehicle['dc_name'][i]\n",
    "                vehicle_type= vehicle['vehicle_type'][i]\n",
    "                tire_capacity = vehicle['max_tire_capacity'][i]\n",
    "                vehicle_name=vehicle['vehicle_name'][i]\n",
    "                print(tire_capacity)\n",
    "                if (total_tires['remaining'][index] > tire_capacity):\n",
    "                    print(\"yes greater\")\n",
    "                    if capacity[capacity[\"location\"]=='RECYCLER']['remaining_capacity'].values[0] >= tire_capacity:\n",
    "                        capacity.loc[capacity[\"location\"]=='RECYCLER','filled'] = tire_capacity + capacity.loc[capacity[\"location\"]=='RECYCLER','filled']\n",
    "                        #print(capacity.loc[capacity[\"location\"]=='RECYCLER','filled'])\n",
    "                        #print(capacity[capacity[\"location\"]=='RECYCLER']['filled'].values[0])\n",
    "                        capacity['remaining_capacity']=capacity['max_tire_capacity']-capacity['filled']\n",
    "                        total_tires.loc[total_tires[\"dc_name\"]==city,'sent'] = tire_capacity + total_tires.loc[total_tires[\"dc_name\"]==city,'sent']\n",
    "                        #total_tires[total_tires[\"dc_name\"] == city]['sent'].values[0]=total_tires[total_tires[\"dc_name\"] == city]['sent'].values[0]+tire_capacity\n",
    "                        result_list.append([city,vehicle_name,'RECYCLER',tire_capacity])\n",
    "                        total_tires['remaining']=total_tires['tires']-total_tires['sent']\n",
    "                        vehicle.loc[index,'allocate'] ='Yes'\n",
    "                        \n",
    "                        \n",
    "                    elif capacity.loc[capacity[\"location\"]=='TRAIN']['remaining_capacity'].values[0] >= tire_capacity:\n",
    "                        capacity.loc[capacity[\"location\"]=='TRAIN','filled'] = tire_capacity + capacity.loc[capacity[\"location\"]=='TRAIN','filled']\n",
    "                        #print(capacity.loc[capacity[\"location\"]=='RECYCLER','filled'])\n",
    "                        #print(capacity[capacity[\"location\"]=='RECYCLER']['filled'].values[0])\n",
    "                        capacity['remaining_capacity']=capacity['max_tire_capacity']-capacity['filled']\n",
    "                        total_tires.loc[total_tires[\"dc_name\"]==city,'sent'] = tire_capacity + total_tires.loc[total_tires[\"dc_name\"]==city,'sent']\n",
    "                        #total_tires[total_tires[\"dc_name\"] == city]['sent'].values[0]=total_tires[total_tires[\"dc_name\"] == city]['sent'].values[0]+tire_capacity\n",
    "                        result_list.append([city,vehicle_name,'TRAIN',tire_capacity])\n",
    "                        total_tires['remaining']=total_tires['tires']-total_tires['sent']\n",
    "                        vehicle.loc[index,'allocate'] ='Yes'\n",
    "                    \n",
    "                    elif capacity.loc[capacity[\"location\"]=='HUB']['remaining_capacity'].values[0] >= tire_capacity:\n",
    "                        capacity.loc[capacity[\"location\"]=='HUB','filled'] = tire_capacity + capacity.loc[capacity[\"location\"]=='HUB','filled']\n",
    "                        #print(capacity.loc[capacity[\"location\"]=='HUB','filled'])\n",
    "                        #print(capacity[capacity[\"location\"]=='HUB']['filled'].values[0])\n",
    "                        capacity['remaining_capacity']=capacity['max_tire_capacity']-capacity['filled']\n",
    "                        total_tires.loc[total_tires[\"dc_name\"]==city,'sent'] = tire_capacity + total_tires.loc[total_tires[\"dc_name\"]==city,'sent']\n",
    "                        #total_tires[total_tires[\"dc_name\"] == city]['sent'].values[0]=total_tires[total_tires[\"dc_name\"] == city]['sent'].values[0]+tire_capacity\n",
    "                        result_list.append([city,vehicle_name,'HUB',tire_capacity])\n",
    "                        total_tires['remaining']=total_tires['tires']-total_tires['sent']\n",
    "                        vehicle.loc[index,'allocate'] ='Yes'\n",
    "                        \n",
    "                \n",
    "                elif (total_tires['remaining'][index] < tire_capacity and total_tires['remaining'][index]!=0):\n",
    "                    print(\"lower\")\n",
    "                    if capacity.loc[capacity[\"location\"]=='TRAIN']['remaining_capacity'].values[0] >= total_tires['remaining'][index]:\n",
    "                        capacity.loc[capacity[\"location\"]=='TRAIN','filled'] = total_tires['remaining'][index] + capacity.loc[capacity[\"location\"]=='TRAIN','filled']\n",
    "                        #print(capacity.loc[capacity[\"location\"]=='RECYCLER','filled'])\n",
    "                        #print(capacity[capacity[\"location\"]=='RECYCLER']['filled'].values[0])\n",
    "                        capacity['remaining_capacity']=capacity['max_tire_capacity']-capacity['filled']\n",
    "                        total_tires.loc[total_tires[\"dc_name\"]==city,'sent'] = total_tires['remaining'][index] + total_tires.loc[total_tires[\"dc_name\"]==city,'sent']\n",
    "                        #total_tires[total_tires[\"dc_name\"] == city]['sent'].values[0]=total_tires[total_tires[\"dc_name\"] == city]['sent'].values[0]+tire_capacity\n",
    "                        result_list.append([city,vehicle_name,'TRAIN',total_tires['remaining'][index]])\n",
    "                        print(city,vehicle_name,'TRAIN',total_tires['remaining'][index],\"less than tire capacity\")\n",
    "                        total_tires['remaining']=total_tires['tires']-total_tires['sent']\n",
    "                        vehicle.loc[index,'allocate'] ='Yes'\n",
    "                        \n",
    "                        \n",
    "                    elif capacity.loc[capacity[\"location\"]=='HUB']['remaining_capacity'].values[0] >= total_tires['remaining'][index]:\n",
    "                        capacity.loc[capacity[\"location\"]=='HUB','filled'] = total_tires['remaining'][index] + capacity.loc[capacity[\"location\"]=='HUB','filled']\n",
    "                        #print(capacity.loc[capacity[\"location\"]=='HUB','filled'])\n",
    "                        #print(capacity[capacity[\"location\"]=='HUB']['filled'].values[0])\n",
    "                        capacity['remaining_capacity']=capacity['max_tire_capacity']-capacity['filled']\n",
    "                        total_tires.loc[total_tires[\"dc_name\"]==city,'sent'] = total_tires['remaining'][index] + total_tires.loc[total_tires[\"dc_name\"]==city,'sent']\n",
    "                        #total_tires[total_tires[\"dc_name\"] == city]['sent'].values[0]=total_tires[total_tires[\"dc_name\"] == city]['sent'].values[0]+tire_capacity\n",
    "                        result_list.append([city,vehicle_name,'HUB',total_tires['remaining'][index]])\n",
    "                        print(city,vehicle_name,'HUB',total_tires['remaining'][index],\"less than tire capacity\")\n",
    "                        total_tires['remaining']=total_tires['tires']-total_tires['sent']\n",
    "                        vehicle.loc[index,'allocate'] ='Yes'\n",
    "                        \n",
    "                        \n",
    "                        \n",
    "                    elif capacity[capacity[\"location\"]=='RECYCLER']['remaining_capacity'].values[0] >= total_tires['remaining'][index]:\n",
    "                        capacity.loc[capacity[\"location\"]=='RECYCLER','filled'] = total_tires['remaining'][index] + capacity.loc[capacity[\"location\"]=='RECYCLER','filled']\n",
    "                        #print(capacity.loc[capacity[\"location\"]=='RECYCLER','filled'])\n",
    "                        #print(capacity[capacity[\"location\"]=='RECYCLER']['filled'].values[0])\n",
    "                        capacity['remaining_capacity']=capacity['max_tire_capacity']-capacity['filled']\n",
    "                        total_tires.loc[total_tires[\"dc_name\"]==city,'sent'] = total_tires['remaining'][index] + total_tires.loc[total_tires[\"dc_name\"]==city,'sent']\n",
    "                        #total_tires[total_tires[\"dc_name\"] == city]['sent'].values[0]=total_tires[total_tires[\"dc_name\"] == city]['sent'].values[0]+tire_capacity\n",
    "                        result_list.append([city,vehicle_name,'RECYCLER',total_tires['remaining'][index]])\n",
    "                        print(city,vehicle_name,'RECYCLER',total_tires['remaining'][index],\"less than tire capacity\")\n",
    "                        total_tires['remaining']=total_tires['tires']-total_tires['sent']\n",
    "                        vehicle.loc[index,'allocate'] ='Yes'\n",
    "                        \n",
    "\n",
    "            elif vehicle['allocate'][i]=='Yes':\n",
    "                print(\"continuing inner loop\")\n",
    "                continue\n",
    "    elif total_tires['remaining'][index] == 0:\n",
    "        print(\"continuing outer loop\")\n",
    "        continue\n",
    "\n",
    "                \n"
   ]
  },
  {
   "cell_type": "code",
   "execution_count": 51,
   "id": "12d7a7e1",
   "metadata": {},
   "outputs": [
    {
     "name": "stdout",
     "output_type": "stream",
     "text": [
      "        dc_name vehicle_name vehicle_type  base_ghg_per_mile  \\\n",
      "5   SPRINGFIELD      ROBOCOP           EV                 26   \n",
      "0   KANSAS CITY    DESDAMONA           EV                 26   \n",
      "1   KANSAS CITY      ELEANOR           EV                 26   \n",
      "2     ST. LOUIS         GINA           EV                 26   \n",
      "3     ST. LOUIS       BESSIE           EV                 26   \n",
      "4   SPRINGFIELD        WAGGY           EV                 26   \n",
      "7   KANSAS CITY         BRUM       DIESEL                 23   \n",
      "9     ST. LOUIS     ARROWCAR       DIESEL                 23   \n",
      "10  SPRINGFIELD        VIPER       DIESEL                 23   \n",
      "11  SPRINGFIELD        ROCKY       DIESEL                 23   \n",
      "6   KANSAS CITY   TERMINATOR       DIESEL                 23   \n",
      "8     ST. LOUIS        BEAST       DIESEL                 23   \n",
      "\n",
      "    extra_ghg_per_tire_per_mile  max_tire_capacity allocate  \n",
      "5                       0.00405                260       No  \n",
      "0                       0.00405                260      Yes  \n",
      "1                       0.00405                260      Yes  \n",
      "2                       0.00405                260      Yes  \n",
      "3                       0.00405                260      Yes  \n",
      "4                       0.00405                260      Yes  \n",
      "7                       0.03915                335       No  \n",
      "9                       0.03915                335       No  \n",
      "10                      0.03915                335       No  \n",
      "11                      0.03915                335       No  \n",
      "6                       0.03915                335      Yes  \n",
      "8                       0.03915                335      Yes  \n",
      "   location  max_tire_capacity  filled  remaining_capacity\n",
      "0       HUB               2000     447                1553\n",
      "1     TRAIN                800     744                  56\n",
      "2  RECYCLER               1500    1300                 200\n",
      "       dc_name  tires  sent  remaining\n",
      "0  KANSAS CITY   1126  1126          0\n",
      "2  SPRINGFIELD    436   436          0\n",
      "1    ST. LOUIS    929   929          0\n"
     ]
    }
   ],
   "source": [
    "print(vehicle)\n",
    "print(capacity)\n",
    "print(total_tires)"
   ]
  },
  {
   "cell_type": "code",
   "execution_count": 52,
   "id": "2c5c8ba0",
   "metadata": {},
   "outputs": [
    {
     "name": "stdout",
     "output_type": "stream",
     "text": [
      "[['KANSAS CITY', 'DESDAMONA', 'RECYCLER', 260], ['KANSAS CITY', 'ELEANOR', 'RECYCLER', 260], ['ST. LOUIS', 'GINA', 'RECYCLER', 260], ['ST. LOUIS', 'BESSIE', 'RECYCLER', 260], ['SPRINGFIELD', 'WAGGY', 'RECYCLER', 260], ['KANSAS CITY', 'TERMINATOR', 'TRAIN', 335], ['ST. LOUIS', 'BEAST', 'TRAIN', 335], ['KANSAS CITY', 'BRUM', 'HUB', 271], ['SPRINGFIELD', 'ROBOCOP', 'HUB', 176], ['ST. LOUIS', 'ARROWCAR', 'TRAIN', 74]]\n"
     ]
    }
   ],
   "source": [
    "print(result_list)"
   ]
  },
  {
   "cell_type": "code",
   "execution_count": 33,
   "id": "360426e6",
   "metadata": {},
   "outputs": [
    {
     "name": "stdout",
     "output_type": "stream",
     "text": [
      "[['KANSAS CITY', 'DESDAMONA', 'RECYCLER', 260], ['KANSAS CITY', 'ELEANOR', 'RECYCLER', 260], ['ST. LOUIS', 'GINA', 'RECYCLER', 260], ['ST. LOUIS', 'BESSIE', 'RECYCLER', 260], ['SPRINGFIELD', 'WAGGY', 'RECYCLER', 260], ['KANSAS CITY', 'TERMINATOR', 'HUB', 335], ['ST. LOUIS', 'BEAST', 'HUB', 335], ['KANSAS CITY', 'BRUM', 'TRAIN', 271], ['SPRINGFIELD', 'ROBOCOP', 'TRAIN', 176], ['ST. LOUIS', 'ARROWCAR', 'TRAIN', 74]]\n"
     ]
    }
   ],
   "source": [
    "initial_result_list=[['KANSAS CITY', 'DESDAMONA', 'RECYCLER', 260], ['KANSAS CITY', 'ELEANOR', 'RECYCLER', 260], ['ST. LOUIS', 'GINA', 'RECYCLER', 260], ['ST. LOUIS', 'BESSIE', 'RECYCLER', 260], ['SPRINGFIELD', 'WAGGY', 'RECYCLER', 260], ['KANSAS CITY', 'TERMINATOR', 'HUB', 335], ['ST. LOUIS', 'BEAST', 'HUB', 335], ['KANSAS CITY', 'BRUM', 'TRAIN', 271], ['SPRINGFIELD', 'ROBOCOP', 'TRAIN', 176], ['ST. LOUIS', 'ARROWCAR', 'TRAIN', 74]]\n",
    "print(initial_result_list)"
   ]
  },
  {
   "cell_type": "code",
   "execution_count": 54,
   "id": "4c3dddd8",
   "metadata": {},
   "outputs": [],
   "source": [
    "df_submission=pd.DataFrame(result_list,columns=['dc_name','vehicle_name','destination','number_of_tires_shipped'])\n",
    "#print(df_submission)"
   ]
  },
  {
   "cell_type": "code",
   "execution_count": null,
   "id": "4af2845c",
   "metadata": {},
   "outputs": [],
   "source": []
  },
  {
   "cell_type": "code",
   "execution_count": 56,
   "id": "8b1057fc",
   "metadata": {},
   "outputs": [
    {
     "name": "stdout",
     "output_type": "stream",
     "text": [
      "201 b'{\"message\":\"Success\",\"challenge\":\"optimization\",\"score\":1663820.7497}'\n"
     ]
    }
   ],
   "source": [
    "\n",
    "import requests\n",
    "url = \"https://scoring-app-uuzeqpiufa-ue.a.run.app/optimization/submit\"\n",
    "payload = {\n",
    "\"team_key\": \"9MaRyrU5\",\n",
    "\"data\": df_submission.to_dict(orient=\"records\")\n",
    "}\n",
    "response = requests.post(url, json=payload)\n",
    "print(response.status_code, response.content)\n"
   ]
  },
  {
   "cell_type": "code",
   "execution_count": 55,
   "id": "38823a7e",
   "metadata": {},
   "outputs": [
    {
     "ename": "SyntaxError",
     "evalue": "illegal target for annotation (4242760901.py, line 1)",
     "output_type": "error",
     "traceback": [
      "\u001b[1;36m  Input \u001b[1;32mIn [55]\u001b[1;36m\u001b[0m\n\u001b[1;33m    \"score\":1679764.8926\u001b[0m\n\u001b[1;37m    ^\u001b[0m\n\u001b[1;31mSyntaxError\u001b[0m\u001b[1;31m:\u001b[0m illegal target for annotation\n"
     ]
    }
   ],
   "source": [
    "\"score\":1679764.8926"
   ]
  },
  {
   "cell_type": "code",
   "execution_count": null,
   "id": "bef2adec",
   "metadata": {},
   "outputs": [],
   "source": []
  }
 ],
 "metadata": {
  "kernelspec": {
   "display_name": "Python 3 (ipykernel)",
   "language": "python",
   "name": "python3"
  },
  "language_info": {
   "codemirror_mode": {
    "name": "ipython",
    "version": 3
   },
   "file_extension": ".py",
   "mimetype": "text/x-python",
   "name": "python",
   "nbconvert_exporter": "python",
   "pygments_lexer": "ipython3",
   "version": "3.9.12"
  }
 },
 "nbformat": 4,
 "nbformat_minor": 5
}
